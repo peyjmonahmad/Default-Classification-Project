{
 "cells": [
  {
   "cell_type": "markdown",
   "metadata": {},
   "source": [
    "### Import necessary packages"
   ]
  },
  {
   "cell_type": "code",
   "execution_count": 1,
   "metadata": {},
   "outputs": [
    {
     "name": "stderr",
     "output_type": "stream",
     "text": [
      "/Users/peyjmonahmad/anaconda3/lib/python3.6/site-packages/statsmodels/compat/pandas.py:56: FutureWarning: The pandas.core.datetools module is deprecated and will be removed in a future version. Please use the pandas.tseries module instead.\n",
      "  from pandas.core import datetools\n"
     ]
    }
   ],
   "source": [
    "import pandas as pd\n",
    "import numpy as np\n",
    "import statsmodels.api as sm\n",
    "import matplotlib.pyplot as plt\n",
    "import seaborn as sns\n",
    "\n",
    "#Sklearn essentials\n",
    "from sklearn.preprocessing import StandardScaler\n",
    "from sklearn.model_selection import cross_val_score\n",
    "from sklearn import metrics\n",
    "from sklearn.metrics import accuracy_score, classification_report\n",
    "from sklearn.neighbors import KNeighborsClassifier\n",
    "from sklearn.model_selection import GridSearchCV\n",
    "from sklearn.model_selection import train_test_split, RandomizedSearchCV, GridSearchCV\n",
    "from sklearn.linear_model import LogisticRegression\n",
    "from sklearn.metrics import accuracy_score, confusion_matrix\n",
    "from sklearn.model_selection import train_test_split\n",
    "from sklearn import svm\n",
    "from sklearn.tree import DecisionTreeClassifier\n",
    "from sklearn.ensemble import RandomForestClassifier\n",
    "from sklearn import tree\n",
    "import graphviz"
   ]
  },
  {
   "cell_type": "markdown",
   "metadata": {},
   "source": [
    "## Load the cleaned DF and check basic properties"
   ]
  },
  {
   "cell_type": "code",
   "execution_count": 4,
   "metadata": {
    "collapsed": true
   },
   "outputs": [],
   "source": [
    "import pickle\n",
    "with open(\"loan_df\", 'rb') as picklefile: \n",
    "    loan_df = pickle.load(picklefile)"
   ]
  },
  {
   "cell_type": "code",
   "execution_count": 5,
   "metadata": {},
   "outputs": [
    {
     "data": {
      "text/html": [
       "<div>\n",
       "<style>\n",
       "    .dataframe thead tr:only-child th {\n",
       "        text-align: right;\n",
       "    }\n",
       "\n",
       "    .dataframe thead th {\n",
       "        text-align: left;\n",
       "    }\n",
       "\n",
       "    .dataframe tbody tr th {\n",
       "        vertical-align: top;\n",
       "    }\n",
       "</style>\n",
       "<table border=\"1\" class=\"dataframe\">\n",
       "  <thead>\n",
       "    <tr style=\"text-align: right;\">\n",
       "      <th></th>\n",
       "      <th>Status_Checking_Acc</th>\n",
       "      <th>Duration_in_Months</th>\n",
       "      <th>Credit_Amount</th>\n",
       "      <th>Savings_Acc</th>\n",
       "      <th>Years_At_Present_Employment</th>\n",
       "      <th>Inst_Rt_Income</th>\n",
       "      <th>Current_Address_Yrs</th>\n",
       "      <th>Age</th>\n",
       "      <th>Num_Credits</th>\n",
       "      <th>Dependents</th>\n",
       "      <th>...</th>\n",
       "      <th>Job_A172</th>\n",
       "      <th>Job_Skilled</th>\n",
       "      <th>Job_Management</th>\n",
       "      <th>Foreign_Yes</th>\n",
       "      <th>Foreign_No</th>\n",
       "      <th>Sex_Female</th>\n",
       "      <th>Sex_Male</th>\n",
       "      <th>Marital_Status_Divorced</th>\n",
       "      <th>Marital_Status_Married</th>\n",
       "      <th>Marital_Status_Single</th>\n",
       "    </tr>\n",
       "  </thead>\n",
       "  <tbody>\n",
       "    <tr>\n",
       "      <th>0</th>\n",
       "      <td>-100</td>\n",
       "      <td>6</td>\n",
       "      <td>1169</td>\n",
       "      <td>0</td>\n",
       "      <td>10.0</td>\n",
       "      <td>4</td>\n",
       "      <td>4</td>\n",
       "      <td>67</td>\n",
       "      <td>2</td>\n",
       "      <td>1</td>\n",
       "      <td>...</td>\n",
       "      <td>0</td>\n",
       "      <td>1</td>\n",
       "      <td>0</td>\n",
       "      <td>1</td>\n",
       "      <td>0</td>\n",
       "      <td>0</td>\n",
       "      <td>1</td>\n",
       "      <td>0</td>\n",
       "      <td>0</td>\n",
       "      <td>1</td>\n",
       "    </tr>\n",
       "    <tr>\n",
       "      <th>1</th>\n",
       "      <td>5000</td>\n",
       "      <td>48</td>\n",
       "      <td>5951</td>\n",
       "      <td>500</td>\n",
       "      <td>2.0</td>\n",
       "      <td>2</td>\n",
       "      <td>2</td>\n",
       "      <td>22</td>\n",
       "      <td>1</td>\n",
       "      <td>1</td>\n",
       "      <td>...</td>\n",
       "      <td>0</td>\n",
       "      <td>1</td>\n",
       "      <td>0</td>\n",
       "      <td>1</td>\n",
       "      <td>0</td>\n",
       "      <td>1</td>\n",
       "      <td>0</td>\n",
       "      <td>0</td>\n",
       "      <td>1</td>\n",
       "      <td>0</td>\n",
       "    </tr>\n",
       "    <tr>\n",
       "      <th>2</th>\n",
       "      <td>0</td>\n",
       "      <td>12</td>\n",
       "      <td>2096</td>\n",
       "      <td>500</td>\n",
       "      <td>5.0</td>\n",
       "      <td>2</td>\n",
       "      <td>3</td>\n",
       "      <td>49</td>\n",
       "      <td>1</td>\n",
       "      <td>2</td>\n",
       "      <td>...</td>\n",
       "      <td>1</td>\n",
       "      <td>0</td>\n",
       "      <td>0</td>\n",
       "      <td>1</td>\n",
       "      <td>0</td>\n",
       "      <td>0</td>\n",
       "      <td>1</td>\n",
       "      <td>0</td>\n",
       "      <td>0</td>\n",
       "      <td>1</td>\n",
       "    </tr>\n",
       "    <tr>\n",
       "      <th>3</th>\n",
       "      <td>-100</td>\n",
       "      <td>42</td>\n",
       "      <td>7882</td>\n",
       "      <td>500</td>\n",
       "      <td>5.0</td>\n",
       "      <td>2</td>\n",
       "      <td>4</td>\n",
       "      <td>45</td>\n",
       "      <td>1</td>\n",
       "      <td>2</td>\n",
       "      <td>...</td>\n",
       "      <td>0</td>\n",
       "      <td>1</td>\n",
       "      <td>0</td>\n",
       "      <td>1</td>\n",
       "      <td>0</td>\n",
       "      <td>0</td>\n",
       "      <td>1</td>\n",
       "      <td>0</td>\n",
       "      <td>0</td>\n",
       "      <td>1</td>\n",
       "    </tr>\n",
       "    <tr>\n",
       "      <th>4</th>\n",
       "      <td>-100</td>\n",
       "      <td>24</td>\n",
       "      <td>4870</td>\n",
       "      <td>500</td>\n",
       "      <td>2.0</td>\n",
       "      <td>3</td>\n",
       "      <td>4</td>\n",
       "      <td>53</td>\n",
       "      <td>2</td>\n",
       "      <td>2</td>\n",
       "      <td>...</td>\n",
       "      <td>0</td>\n",
       "      <td>1</td>\n",
       "      <td>0</td>\n",
       "      <td>1</td>\n",
       "      <td>0</td>\n",
       "      <td>0</td>\n",
       "      <td>1</td>\n",
       "      <td>0</td>\n",
       "      <td>0</td>\n",
       "      <td>1</td>\n",
       "    </tr>\n",
       "  </tbody>\n",
       "</table>\n",
       "<p>5 rows × 48 columns</p>\n",
       "</div>"
      ],
      "text/plain": [
       "   Status_Checking_Acc  Duration_in_Months  Credit_Amount  Savings_Acc  \\\n",
       "0                 -100                   6           1169            0   \n",
       "1                 5000                  48           5951          500   \n",
       "2                    0                  12           2096          500   \n",
       "3                 -100                  42           7882          500   \n",
       "4                 -100                  24           4870          500   \n",
       "\n",
       "   Years_At_Present_Employment  Inst_Rt_Income  Current_Address_Yrs  Age  \\\n",
       "0                         10.0               4                    4   67   \n",
       "1                          2.0               2                    2   22   \n",
       "2                          5.0               2                    3   49   \n",
       "3                          5.0               2                    4   45   \n",
       "4                          2.0               3                    4   53   \n",
       "\n",
       "   Num_Credits  Dependents          ...            Job_A172  Job_Skilled  \\\n",
       "0            2           1          ...                   0            1   \n",
       "1            1           1          ...                   0            1   \n",
       "2            1           2          ...                   1            0   \n",
       "3            1           2          ...                   0            1   \n",
       "4            2           2          ...                   0            1   \n",
       "\n",
       "   Job_Management  Foreign_Yes  Foreign_No  Sex_Female  Sex_Male  \\\n",
       "0               0            1           0           0         1   \n",
       "1               0            1           0           1         0   \n",
       "2               0            1           0           0         1   \n",
       "3               0            1           0           0         1   \n",
       "4               0            1           0           0         1   \n",
       "\n",
       "   Marital_Status_Divorced  Marital_Status_Married  Marital_Status_Single  \n",
       "0                        0                       0                      1  \n",
       "1                        0                       1                      0  \n",
       "2                        0                       0                      1  \n",
       "3                        0                       0                      1  \n",
       "4                        0                       0                      1  \n",
       "\n",
       "[5 rows x 48 columns]"
      ]
     },
     "execution_count": 5,
     "metadata": {},
     "output_type": "execute_result"
    }
   ],
   "source": [
    "loan_df.head()"
   ]
  },
  {
   "cell_type": "code",
   "execution_count": 6,
   "metadata": {},
   "outputs": [
    {
     "data": {
      "text/html": [
       "<div>\n",
       "<style>\n",
       "    .dataframe thead tr:only-child th {\n",
       "        text-align: right;\n",
       "    }\n",
       "\n",
       "    .dataframe thead th {\n",
       "        text-align: left;\n",
       "    }\n",
       "\n",
       "    .dataframe tbody tr th {\n",
       "        vertical-align: top;\n",
       "    }\n",
       "</style>\n",
       "<table border=\"1\" class=\"dataframe\">\n",
       "  <thead>\n",
       "    <tr style=\"text-align: right;\">\n",
       "      <th></th>\n",
       "      <th>Status_Checking_Acc</th>\n",
       "      <th>Duration_in_Months</th>\n",
       "      <th>Credit_Amount</th>\n",
       "      <th>Savings_Acc</th>\n",
       "      <th>Years_At_Present_Employment</th>\n",
       "      <th>Inst_Rt_Income</th>\n",
       "      <th>Current_Address_Yrs</th>\n",
       "      <th>Age</th>\n",
       "      <th>Num_Credits</th>\n",
       "      <th>Dependents</th>\n",
       "      <th>...</th>\n",
       "      <th>Job_A172</th>\n",
       "      <th>Job_Skilled</th>\n",
       "      <th>Job_Management</th>\n",
       "      <th>Foreign_Yes</th>\n",
       "      <th>Foreign_No</th>\n",
       "      <th>Sex_Female</th>\n",
       "      <th>Sex_Male</th>\n",
       "      <th>Marital_Status_Divorced</th>\n",
       "      <th>Marital_Status_Married</th>\n",
       "      <th>Marital_Status_Single</th>\n",
       "    </tr>\n",
       "  </thead>\n",
       "  <tbody>\n",
       "    <tr>\n",
       "      <th>count</th>\n",
       "      <td>5000.000000</td>\n",
       "      <td>5000.000000</td>\n",
       "      <td>5000.000000</td>\n",
       "      <td>5000.000000</td>\n",
       "      <td>5000.000000</td>\n",
       "      <td>5000.000000</td>\n",
       "      <td>5000.000000</td>\n",
       "      <td>5000.000000</td>\n",
       "      <td>5000.000000</td>\n",
       "      <td>5000.000000</td>\n",
       "      <td>...</td>\n",
       "      <td>5000.00000</td>\n",
       "      <td>5000.000000</td>\n",
       "      <td>5000.000000</td>\n",
       "      <td>5000.000000</td>\n",
       "      <td>5000.000000</td>\n",
       "      <td>5000.000000</td>\n",
       "      <td>5000.000000</td>\n",
       "      <td>5000.000000</td>\n",
       "      <td>5000.000000</td>\n",
       "      <td>5000.00000</td>\n",
       "    </tr>\n",
       "    <tr>\n",
       "      <th>mean</th>\n",
       "      <td>2577.600000</td>\n",
       "      <td>20.903000</td>\n",
       "      <td>3271.258000</td>\n",
       "      <td>1834.500000</td>\n",
       "      <td>4.164000</td>\n",
       "      <td>2.973000</td>\n",
       "      <td>2.845000</td>\n",
       "      <td>35.546000</td>\n",
       "      <td>1.407000</td>\n",
       "      <td>1.155000</td>\n",
       "      <td>...</td>\n",
       "      <td>0.20000</td>\n",
       "      <td>0.630000</td>\n",
       "      <td>0.148000</td>\n",
       "      <td>0.963000</td>\n",
       "      <td>0.037000</td>\n",
       "      <td>0.310000</td>\n",
       "      <td>0.690000</td>\n",
       "      <td>0.050000</td>\n",
       "      <td>0.402000</td>\n",
       "      <td>0.54800</td>\n",
       "    </tr>\n",
       "    <tr>\n",
       "      <th>std</th>\n",
       "      <td>5028.794686</td>\n",
       "      <td>12.053989</td>\n",
       "      <td>2821.607329</td>\n",
       "      <td>3542.155999</td>\n",
       "      <td>3.703086</td>\n",
       "      <td>1.118267</td>\n",
       "      <td>1.103276</td>\n",
       "      <td>11.370917</td>\n",
       "      <td>0.577423</td>\n",
       "      <td>0.361941</td>\n",
       "      <td>...</td>\n",
       "      <td>0.40004</td>\n",
       "      <td>0.482853</td>\n",
       "      <td>0.355136</td>\n",
       "      <td>0.188781</td>\n",
       "      <td>0.188781</td>\n",
       "      <td>0.462539</td>\n",
       "      <td>0.462539</td>\n",
       "      <td>0.217967</td>\n",
       "      <td>0.490351</td>\n",
       "      <td>0.49774</td>\n",
       "    </tr>\n",
       "    <tr>\n",
       "      <th>min</th>\n",
       "      <td>-100.000000</td>\n",
       "      <td>4.000000</td>\n",
       "      <td>250.000000</td>\n",
       "      <td>0.000000</td>\n",
       "      <td>0.000000</td>\n",
       "      <td>1.000000</td>\n",
       "      <td>1.000000</td>\n",
       "      <td>19.000000</td>\n",
       "      <td>1.000000</td>\n",
       "      <td>1.000000</td>\n",
       "      <td>...</td>\n",
       "      <td>0.00000</td>\n",
       "      <td>0.000000</td>\n",
       "      <td>0.000000</td>\n",
       "      <td>0.000000</td>\n",
       "      <td>0.000000</td>\n",
       "      <td>0.000000</td>\n",
       "      <td>0.000000</td>\n",
       "      <td>0.000000</td>\n",
       "      <td>0.000000</td>\n",
       "      <td>0.00000</td>\n",
       "    </tr>\n",
       "    <tr>\n",
       "      <th>25%</th>\n",
       "      <td>-100.000000</td>\n",
       "      <td>12.000000</td>\n",
       "      <td>1365.500000</td>\n",
       "      <td>500.000000</td>\n",
       "      <td>2.000000</td>\n",
       "      <td>2.000000</td>\n",
       "      <td>2.000000</td>\n",
       "      <td>27.000000</td>\n",
       "      <td>1.000000</td>\n",
       "      <td>1.000000</td>\n",
       "      <td>...</td>\n",
       "      <td>0.00000</td>\n",
       "      <td>0.000000</td>\n",
       "      <td>0.000000</td>\n",
       "      <td>1.000000</td>\n",
       "      <td>0.000000</td>\n",
       "      <td>0.000000</td>\n",
       "      <td>0.000000</td>\n",
       "      <td>0.000000</td>\n",
       "      <td>0.000000</td>\n",
       "      <td>0.00000</td>\n",
       "    </tr>\n",
       "    <tr>\n",
       "      <th>50%</th>\n",
       "      <td>0.000000</td>\n",
       "      <td>18.000000</td>\n",
       "      <td>2319.500000</td>\n",
       "      <td>500.000000</td>\n",
       "      <td>2.000000</td>\n",
       "      <td>3.000000</td>\n",
       "      <td>3.000000</td>\n",
       "      <td>33.000000</td>\n",
       "      <td>1.000000</td>\n",
       "      <td>1.000000</td>\n",
       "      <td>...</td>\n",
       "      <td>0.00000</td>\n",
       "      <td>1.000000</td>\n",
       "      <td>0.000000</td>\n",
       "      <td>1.000000</td>\n",
       "      <td>0.000000</td>\n",
       "      <td>0.000000</td>\n",
       "      <td>1.000000</td>\n",
       "      <td>0.000000</td>\n",
       "      <td>0.000000</td>\n",
       "      <td>1.00000</td>\n",
       "    </tr>\n",
       "    <tr>\n",
       "      <th>75%</th>\n",
       "      <td>5000.000000</td>\n",
       "      <td>24.000000</td>\n",
       "      <td>3972.250000</td>\n",
       "      <td>500.000000</td>\n",
       "      <td>10.000000</td>\n",
       "      <td>4.000000</td>\n",
       "      <td>4.000000</td>\n",
       "      <td>42.000000</td>\n",
       "      <td>2.000000</td>\n",
       "      <td>1.000000</td>\n",
       "      <td>...</td>\n",
       "      <td>0.00000</td>\n",
       "      <td>1.000000</td>\n",
       "      <td>0.000000</td>\n",
       "      <td>1.000000</td>\n",
       "      <td>0.000000</td>\n",
       "      <td>1.000000</td>\n",
       "      <td>1.000000</td>\n",
       "      <td>0.000000</td>\n",
       "      <td>1.000000</td>\n",
       "      <td>1.00000</td>\n",
       "    </tr>\n",
       "    <tr>\n",
       "      <th>max</th>\n",
       "      <td>20000.000000</td>\n",
       "      <td>72.000000</td>\n",
       "      <td>18424.000000</td>\n",
       "      <td>15000.000000</td>\n",
       "      <td>10.000000</td>\n",
       "      <td>4.000000</td>\n",
       "      <td>4.000000</td>\n",
       "      <td>75.000000</td>\n",
       "      <td>4.000000</td>\n",
       "      <td>2.000000</td>\n",
       "      <td>...</td>\n",
       "      <td>1.00000</td>\n",
       "      <td>1.000000</td>\n",
       "      <td>1.000000</td>\n",
       "      <td>1.000000</td>\n",
       "      <td>1.000000</td>\n",
       "      <td>1.000000</td>\n",
       "      <td>1.000000</td>\n",
       "      <td>1.000000</td>\n",
       "      <td>1.000000</td>\n",
       "      <td>1.00000</td>\n",
       "    </tr>\n",
       "  </tbody>\n",
       "</table>\n",
       "<p>8 rows × 48 columns</p>\n",
       "</div>"
      ],
      "text/plain": [
       "       Status_Checking_Acc  Duration_in_Months  Credit_Amount   Savings_Acc  \\\n",
       "count          5000.000000         5000.000000    5000.000000   5000.000000   \n",
       "mean           2577.600000           20.903000    3271.258000   1834.500000   \n",
       "std            5028.794686           12.053989    2821.607329   3542.155999   \n",
       "min            -100.000000            4.000000     250.000000      0.000000   \n",
       "25%            -100.000000           12.000000    1365.500000    500.000000   \n",
       "50%               0.000000           18.000000    2319.500000    500.000000   \n",
       "75%            5000.000000           24.000000    3972.250000    500.000000   \n",
       "max           20000.000000           72.000000   18424.000000  15000.000000   \n",
       "\n",
       "       Years_At_Present_Employment  Inst_Rt_Income  Current_Address_Yrs  \\\n",
       "count                  5000.000000     5000.000000          5000.000000   \n",
       "mean                      4.164000        2.973000             2.845000   \n",
       "std                       3.703086        1.118267             1.103276   \n",
       "min                       0.000000        1.000000             1.000000   \n",
       "25%                       2.000000        2.000000             2.000000   \n",
       "50%                       2.000000        3.000000             3.000000   \n",
       "75%                      10.000000        4.000000             4.000000   \n",
       "max                      10.000000        4.000000             4.000000   \n",
       "\n",
       "               Age  Num_Credits   Dependents          ...            \\\n",
       "count  5000.000000  5000.000000  5000.000000          ...             \n",
       "mean     35.546000     1.407000     1.155000          ...             \n",
       "std      11.370917     0.577423     0.361941          ...             \n",
       "min      19.000000     1.000000     1.000000          ...             \n",
       "25%      27.000000     1.000000     1.000000          ...             \n",
       "50%      33.000000     1.000000     1.000000          ...             \n",
       "75%      42.000000     2.000000     1.000000          ...             \n",
       "max      75.000000     4.000000     2.000000          ...             \n",
       "\n",
       "         Job_A172  Job_Skilled  Job_Management  Foreign_Yes   Foreign_No  \\\n",
       "count  5000.00000  5000.000000     5000.000000  5000.000000  5000.000000   \n",
       "mean      0.20000     0.630000        0.148000     0.963000     0.037000   \n",
       "std       0.40004     0.482853        0.355136     0.188781     0.188781   \n",
       "min       0.00000     0.000000        0.000000     0.000000     0.000000   \n",
       "25%       0.00000     0.000000        0.000000     1.000000     0.000000   \n",
       "50%       0.00000     1.000000        0.000000     1.000000     0.000000   \n",
       "75%       0.00000     1.000000        0.000000     1.000000     0.000000   \n",
       "max       1.00000     1.000000        1.000000     1.000000     1.000000   \n",
       "\n",
       "        Sex_Female     Sex_Male  Marital_Status_Divorced  \\\n",
       "count  5000.000000  5000.000000              5000.000000   \n",
       "mean      0.310000     0.690000                 0.050000   \n",
       "std       0.462539     0.462539                 0.217967   \n",
       "min       0.000000     0.000000                 0.000000   \n",
       "25%       0.000000     0.000000                 0.000000   \n",
       "50%       0.000000     1.000000                 0.000000   \n",
       "75%       1.000000     1.000000                 0.000000   \n",
       "max       1.000000     1.000000                 1.000000   \n",
       "\n",
       "       Marital_Status_Married  Marital_Status_Single  \n",
       "count             5000.000000             5000.00000  \n",
       "mean                 0.402000                0.54800  \n",
       "std                  0.490351                0.49774  \n",
       "min                  0.000000                0.00000  \n",
       "25%                  0.000000                0.00000  \n",
       "50%                  0.000000                1.00000  \n",
       "75%                  1.000000                1.00000  \n",
       "max                  1.000000                1.00000  \n",
       "\n",
       "[8 rows x 48 columns]"
      ]
     },
     "execution_count": 6,
     "metadata": {},
     "output_type": "execute_result"
    }
   ],
   "source": [
    "loan_df.describe()"
   ]
  },
  {
   "cell_type": "code",
   "execution_count": 7,
   "metadata": {},
   "outputs": [
    {
     "data": {
      "text/plain": [
       "(5000, 48)"
      ]
     },
     "execution_count": 7,
     "metadata": {},
     "output_type": "execute_result"
    }
   ],
   "source": [
    "loan_df.shape"
   ]
  },
  {
   "cell_type": "code",
   "execution_count": 8,
   "metadata": {
    "scrolled": true
   },
   "outputs": [
    {
     "name": "stdout",
     "output_type": "stream",
     "text": [
      "<class 'pandas.core.frame.DataFrame'>\n",
      "RangeIndex: 5000 entries, 0 to 4999\n",
      "Data columns (total 48 columns):\n",
      "Status_Checking_Acc            5000 non-null int64\n",
      "Duration_in_Months             5000 non-null int64\n",
      "Credit_Amount                  5000 non-null int64\n",
      "Savings_Acc                    5000 non-null int64\n",
      "Years_At_Present_Employment    5000 non-null float64\n",
      "Inst_Rt_Income                 5000 non-null int64\n",
      "Current_Address_Yrs            5000 non-null int64\n",
      "Age                            5000 non-null int64\n",
      "Num_Credits                    5000 non-null int64\n",
      "Dependents                     5000 non-null int64\n",
      "Default                        5000 non-null int64\n",
      "Credits_Paid_Duly              5000 non-null uint8\n",
      "Credits_Paid_Duly              5000 non-null uint8\n",
      "Credits_PaidBack_TilNow        5000 non-null uint8\n",
      "Credit_Delayed_InPast          5000 non-null uint8\n",
      "Credit_CriticalAccount         5000 non-null uint8\n",
      "Purpose_Car                    5000 non-null uint8\n",
      "Purpose_Others                 5000 non-null uint8\n",
      "Purpose_Furniture              5000 non-null uint8\n",
      "Purpose_Appliance              5000 non-null uint8\n",
      "Purpose_Repairs                5000 non-null uint8\n",
      "Purpose_Education              5000 non-null uint8\n",
      "Purpose_Restraining            5000 non-null uint8\n",
      "Purpose_Business               5000 non-null uint8\n",
      "Debtors_None                   5000 non-null uint8\n",
      "Debtors_CoApplicant            5000 non-null uint8\n",
      "Debtors_Guarantor              5000 non-null uint8\n",
      "Property_RealEstate            5000 non-null uint8\n",
      "Property_Building/Insurance    5000 non-null uint8\n",
      "Property_Car/other             5000 non-null uint8\n",
      "Property_Unknown               5000 non-null uint8\n",
      "OtherPlans_Bank                5000 non-null uint8\n",
      "OtherPlans_Stores              5000 non-null uint8\n",
      "OtherPlans_None                5000 non-null uint8\n",
      "Housing_Rent                   5000 non-null uint8\n",
      "Housing_Own                    5000 non-null uint8\n",
      "Housing_Free                   5000 non-null uint8\n",
      "Job_Unskilled                  5000 non-null uint8\n",
      "Job_A172                       5000 non-null uint8\n",
      "Job_Skilled                    5000 non-null uint8\n",
      "Job_Management                 5000 non-null uint8\n",
      "Foreign_Yes                    5000 non-null uint8\n",
      "Foreign_No                     5000 non-null uint8\n",
      "Sex_Female                     5000 non-null uint8\n",
      "Sex_Male                       5000 non-null uint8\n",
      "Marital_Status_Divorced        5000 non-null uint8\n",
      "Marital_Status_Married         5000 non-null uint8\n",
      "Marital_Status_Single          5000 non-null uint8\n",
      "dtypes: float64(1), int64(10), uint8(37)\n",
      "memory usage: 610.4 KB\n"
     ]
    }
   ],
   "source": [
    "loan_df.info()"
   ]
  },
  {
   "cell_type": "markdown",
   "metadata": {},
   "source": [
    "### 11 numerical variables and 37 dummy variables"
   ]
  },
  {
   "cell_type": "markdown",
   "metadata": {},
   "source": [
    "### Target variable will be 'Default' (Y).  The value 1 means the customer defaulted, while 0 means there was no default"
   ]
  },
  {
   "cell_type": "code",
   "execution_count": 32,
   "metadata": {
    "collapsed": true
   },
   "outputs": [],
   "source": [
    "y = loan_df['Default']"
   ]
  },
  {
   "cell_type": "code",
   "execution_count": 9,
   "metadata": {},
   "outputs": [
    {
     "data": {
      "text/plain": [
       "0    3505\n",
       "1    1495\n",
       "Name: Default, dtype: int64"
      ]
     },
     "execution_count": 9,
     "metadata": {},
     "output_type": "execute_result"
    }
   ],
   "source": [
    "loan_df['Default'].value_counts()"
   ]
  },
  {
   "cell_type": "code",
   "execution_count": 10,
   "metadata": {},
   "outputs": [
    {
     "data": {
      "image/png": "[encoded data removed]",
      "text/plain": [
       "<Figure size 432x288 with 1 Axes>"
      ]
     },
     "metadata": {},
     "output_type": "display_data"
    }
   ],
   "source": [
    "loan_df['Default'].value_counts().plot('bar',title='Default Counts')\n",
    "plt.show()"
   ]
  },
  {
   "cell_type": "markdown",
   "metadata": {},
   "source": [
    "### As you can see, there is some imbalance with a 70/30% split of the target variable.  3505 customers have not defaulted, while 1495 have defaulted."
   ]
  },
  {
   "cell_type": "markdown",
   "metadata": {},
   "source": [
    "### Seperate the numerical variables of the dataset, and then we can incorporate the dummy variables."
   ]
  },
  {
   "cell_type": "code",
   "execution_count": 11,
   "metadata": {
    "collapsed": true
   },
   "outputs": [],
   "source": [
    "num_cols = ['Status_Checking_Acc', 'Duration_in_Months', 'Credit_Amount',\n",
    "       'Savings_Acc', 'Years_At_Present_Employment', 'Inst_Rt_Income',\n",
    "       'Current_Address_Yrs', 'Age', 'Num_Credits', 'Dependents']"
   ]
  },
  {
   "cell_type": "code",
   "execution_count": 12,
   "metadata": {
    "collapsed": true
   },
   "outputs": [],
   "source": [
    "num_df = loan_df[num_cols]"
   ]
  },
  {
   "cell_type": "markdown",
   "metadata": {},
   "source": [
    "### Let's explore the default descrepancies between numeric variables"
   ]
  },
  {
   "cell_type": "code",
   "execution_count": 13,
   "metadata": {},
   "outputs": [
    {
     "data": {
      "text/html": [
       "<div>\n",
       "<style>\n",
       "    .dataframe thead tr:only-child th {\n",
       "        text-align: right;\n",
       "    }\n",
       "\n",
       "    .dataframe thead th {\n",
       "        text-align: left;\n",
       "    }\n",
       "\n",
       "    .dataframe tbody tr th {\n",
       "        vertical-align: top;\n",
       "    }\n",
       "</style>\n",
       "<table border=\"1\" class=\"dataframe\">\n",
       "  <thead>\n",
       "    <tr style=\"text-align: right;\">\n",
       "      <th></th>\n",
       "      <th>Status_Checking_Acc</th>\n",
       "      <th>Duration_in_Months</th>\n",
       "      <th>Credit_Amount</th>\n",
       "      <th>Savings_Acc</th>\n",
       "      <th>Years_At_Present_Employment</th>\n",
       "      <th>Inst_Rt_Income</th>\n",
       "      <th>Current_Address_Yrs</th>\n",
       "      <th>Age</th>\n",
       "      <th>Num_Credits</th>\n",
       "      <th>Dependents</th>\n",
       "    </tr>\n",
       "  </thead>\n",
       "  <tbody>\n",
       "    <tr>\n",
       "      <th>Status_Checking_Acc</th>\n",
       "      <td>1.000000</td>\n",
       "      <td>-0.034639</td>\n",
       "      <td>-0.044203</td>\n",
       "      <td>0.003731</td>\n",
       "      <td>-0.041517</td>\n",
       "      <td>-0.063497</td>\n",
       "      <td>-0.087537</td>\n",
       "      <td>0.001895</td>\n",
       "      <td>-0.061823</td>\n",
       "      <td>-0.038317</td>\n",
       "    </tr>\n",
       "    <tr>\n",
       "      <th>Duration_in_Months</th>\n",
       "      <td>-0.034639</td>\n",
       "      <td>1.000000</td>\n",
       "      <td>0.624984</td>\n",
       "      <td>-0.055766</td>\n",
       "      <td>0.050224</td>\n",
       "      <td>0.074749</td>\n",
       "      <td>0.034067</td>\n",
       "      <td>-0.036136</td>\n",
       "      <td>-0.011284</td>\n",
       "      <td>-0.023834</td>\n",
       "    </tr>\n",
       "    <tr>\n",
       "      <th>Credit_Amount</th>\n",
       "      <td>-0.044203</td>\n",
       "      <td>0.624984</td>\n",
       "      <td>1.000000</td>\n",
       "      <td>-0.084576</td>\n",
       "      <td>0.004127</td>\n",
       "      <td>-0.271316</td>\n",
       "      <td>0.028926</td>\n",
       "      <td>0.032716</td>\n",
       "      <td>0.020795</td>\n",
       "      <td>0.017142</td>\n",
       "    </tr>\n",
       "    <tr>\n",
       "      <th>Savings_Acc</th>\n",
       "      <td>0.003731</td>\n",
       "      <td>-0.055766</td>\n",
       "      <td>-0.084576</td>\n",
       "      <td>1.000000</td>\n",
       "      <td>0.039891</td>\n",
       "      <td>0.014148</td>\n",
       "      <td>0.014166</td>\n",
       "      <td>0.023550</td>\n",
       "      <td>-0.001536</td>\n",
       "      <td>-0.011193</td>\n",
       "    </tr>\n",
       "    <tr>\n",
       "      <th>Years_At_Present_Employment</th>\n",
       "      <td>-0.041517</td>\n",
       "      <td>0.050224</td>\n",
       "      <td>0.004127</td>\n",
       "      <td>0.039891</td>\n",
       "      <td>1.000000</td>\n",
       "      <td>0.136691</td>\n",
       "      <td>0.295228</td>\n",
       "      <td>0.332548</td>\n",
       "      <td>0.140682</td>\n",
       "      <td>0.095953</td>\n",
       "    </tr>\n",
       "    <tr>\n",
       "      <th>Inst_Rt_Income</th>\n",
       "      <td>-0.063497</td>\n",
       "      <td>0.074749</td>\n",
       "      <td>-0.271316</td>\n",
       "      <td>0.014148</td>\n",
       "      <td>0.136691</td>\n",
       "      <td>1.000000</td>\n",
       "      <td>0.049302</td>\n",
       "      <td>0.058266</td>\n",
       "      <td>0.021669</td>\n",
       "      <td>-0.071207</td>\n",
       "    </tr>\n",
       "    <tr>\n",
       "      <th>Current_Address_Yrs</th>\n",
       "      <td>-0.087537</td>\n",
       "      <td>0.034067</td>\n",
       "      <td>0.028926</td>\n",
       "      <td>0.014166</td>\n",
       "      <td>0.295228</td>\n",
       "      <td>0.049302</td>\n",
       "      <td>1.000000</td>\n",
       "      <td>0.266419</td>\n",
       "      <td>0.089625</td>\n",
       "      <td>0.042643</td>\n",
       "    </tr>\n",
       "    <tr>\n",
       "      <th>Age</th>\n",
       "      <td>0.001895</td>\n",
       "      <td>-0.036136</td>\n",
       "      <td>0.032716</td>\n",
       "      <td>0.023550</td>\n",
       "      <td>0.332548</td>\n",
       "      <td>0.058266</td>\n",
       "      <td>0.266419</td>\n",
       "      <td>1.000000</td>\n",
       "      <td>0.149254</td>\n",
       "      <td>0.118201</td>\n",
       "    </tr>\n",
       "    <tr>\n",
       "      <th>Num_Credits</th>\n",
       "      <td>-0.061823</td>\n",
       "      <td>-0.011284</td>\n",
       "      <td>0.020795</td>\n",
       "      <td>-0.001536</td>\n",
       "      <td>0.140682</td>\n",
       "      <td>0.021669</td>\n",
       "      <td>0.089625</td>\n",
       "      <td>0.149254</td>\n",
       "      <td>1.000000</td>\n",
       "      <td>0.109667</td>\n",
       "    </tr>\n",
       "    <tr>\n",
       "      <th>Dependents</th>\n",
       "      <td>-0.038317</td>\n",
       "      <td>-0.023834</td>\n",
       "      <td>0.017142</td>\n",
       "      <td>-0.011193</td>\n",
       "      <td>0.095953</td>\n",
       "      <td>-0.071207</td>\n",
       "      <td>0.042643</td>\n",
       "      <td>0.118201</td>\n",
       "      <td>0.109667</td>\n",
       "      <td>1.000000</td>\n",
       "    </tr>\n",
       "  </tbody>\n",
       "</table>\n",
       "</div>"
      ],
      "text/plain": [
       "                             Status_Checking_Acc  Duration_in_Months  \\\n",
       "Status_Checking_Acc                     1.000000           -0.034639   \n",
       "Duration_in_Months                     -0.034639            1.000000   \n",
       "Credit_Amount                          -0.044203            0.624984   \n",
       "Savings_Acc                             0.003731           -0.055766   \n",
       "Years_At_Present_Employment            -0.041517            0.050224   \n",
       "Inst_Rt_Income                         -0.063497            0.074749   \n",
       "Current_Address_Yrs                    -0.087537            0.034067   \n",
       "Age                                     0.001895           -0.036136   \n",
       "Num_Credits                            -0.061823           -0.011284   \n",
       "Dependents                             -0.038317           -0.023834   \n",
       "\n",
       "                             Credit_Amount  Savings_Acc  \\\n",
       "Status_Checking_Acc              -0.044203     0.003731   \n",
       "Duration_in_Months                0.624984    -0.055766   \n",
       "Credit_Amount                     1.000000    -0.084576   \n",
       "Savings_Acc                      -0.084576     1.000000   \n",
       "Years_At_Present_Employment       0.004127     0.039891   \n",
       "Inst_Rt_Income                   -0.271316     0.014148   \n",
       "Current_Address_Yrs               0.028926     0.014166   \n",
       "Age                               0.032716     0.023550   \n",
       "Num_Credits                       0.020795    -0.001536   \n",
       "Dependents                        0.017142    -0.011193   \n",
       "\n",
       "                             Years_At_Present_Employment  Inst_Rt_Income  \\\n",
       "Status_Checking_Acc                            -0.041517       -0.063497   \n",
       "Duration_in_Months                              0.050224        0.074749   \n",
       "Credit_Amount                                   0.004127       -0.271316   \n",
       "Savings_Acc                                     0.039891        0.014148   \n",
       "Years_At_Present_Employment                     1.000000        0.136691   \n",
       "Inst_Rt_Income                                  0.136691        1.000000   \n",
       "Current_Address_Yrs                             0.295228        0.049302   \n",
       "Age                                             0.332548        0.058266   \n",
       "Num_Credits                                     0.140682        0.021669   \n",
       "Dependents                                      0.095953       -0.071207   \n",
       "\n",
       "                             Current_Address_Yrs       Age  Num_Credits  \\\n",
       "Status_Checking_Acc                    -0.087537  0.001895    -0.061823   \n",
       "Duration_in_Months                      0.034067 -0.036136    -0.011284   \n",
       "Credit_Amount                           0.028926  0.032716     0.020795   \n",
       "Savings_Acc                             0.014166  0.023550    -0.001536   \n",
       "Years_At_Present_Employment             0.295228  0.332548     0.140682   \n",
       "Inst_Rt_Income                          0.049302  0.058266     0.021669   \n",
       "Current_Address_Yrs                     1.000000  0.266419     0.089625   \n",
       "Age                                     0.266419  1.000000     0.149254   \n",
       "Num_Credits                             0.089625  0.149254     1.000000   \n",
       "Dependents                              0.042643  0.118201     0.109667   \n",
       "\n",
       "                             Dependents  \n",
       "Status_Checking_Acc           -0.038317  \n",
       "Duration_in_Months            -0.023834  \n",
       "Credit_Amount                  0.017142  \n",
       "Savings_Acc                   -0.011193  \n",
       "Years_At_Present_Employment    0.095953  \n",
       "Inst_Rt_Income                -0.071207  \n",
       "Current_Address_Yrs            0.042643  \n",
       "Age                            0.118201  \n",
       "Num_Credits                    0.109667  \n",
       "Dependents                     1.000000  "
      ]
     },
     "execution_count": 13,
     "metadata": {},
     "output_type": "execute_result"
    }
   ],
   "source": [
    "num_df.corr()"
   ]
  },
  {
   "cell_type": "code",
   "execution_count": 15,
   "metadata": {},
   "outputs": [
    {
     "data": {
      "text/html": [
       "<div>\n",
       "<style>\n",
       "    .dataframe thead tr:only-child th {\n",
       "        text-align: right;\n",
       "    }\n",
       "\n",
       "    .dataframe thead th {\n",
       "        text-align: left;\n",
       "    }\n",
       "\n",
       "    .dataframe tbody tr th {\n",
       "        vertical-align: top;\n",
       "    }\n",
       "</style>\n",
       "<table border=\"1\" class=\"dataframe\">\n",
       "  <thead>\n",
       "    <tr style=\"text-align: right;\">\n",
       "      <th></th>\n",
       "      <th>Status_Checking_Acc</th>\n",
       "      <th>Duration_in_Months</th>\n",
       "      <th>Credit_Amount</th>\n",
       "      <th>Savings_Acc</th>\n",
       "      <th>Years_At_Present_Employment</th>\n",
       "      <th>Inst_Rt_Income</th>\n",
       "      <th>Current_Address_Yrs</th>\n",
       "      <th>Age</th>\n",
       "      <th>Num_Credits</th>\n",
       "      <th>Dependents</th>\n",
       "    </tr>\n",
       "  </thead>\n",
       "  <tbody>\n",
       "    <tr>\n",
       "      <th>count</th>\n",
       "      <td>5000.000000</td>\n",
       "      <td>5000.000000</td>\n",
       "      <td>5000.000000</td>\n",
       "      <td>5000.000000</td>\n",
       "      <td>5000.000000</td>\n",
       "      <td>5000.000000</td>\n",
       "      <td>5000.000000</td>\n",
       "      <td>5000.000000</td>\n",
       "      <td>5000.000000</td>\n",
       "      <td>5000.000000</td>\n",
       "    </tr>\n",
       "    <tr>\n",
       "      <th>mean</th>\n",
       "      <td>2577.600000</td>\n",
       "      <td>20.903000</td>\n",
       "      <td>3271.258000</td>\n",
       "      <td>1834.500000</td>\n",
       "      <td>4.164000</td>\n",
       "      <td>2.973000</td>\n",
       "      <td>2.845000</td>\n",
       "      <td>35.546000</td>\n",
       "      <td>1.407000</td>\n",
       "      <td>1.155000</td>\n",
       "    </tr>\n",
       "    <tr>\n",
       "      <th>std</th>\n",
       "      <td>5028.794686</td>\n",
       "      <td>12.053989</td>\n",
       "      <td>2821.607329</td>\n",
       "      <td>3542.155999</td>\n",
       "      <td>3.703086</td>\n",
       "      <td>1.118267</td>\n",
       "      <td>1.103276</td>\n",
       "      <td>11.370917</td>\n",
       "      <td>0.577423</td>\n",
       "      <td>0.361941</td>\n",
       "    </tr>\n",
       "    <tr>\n",
       "      <th>min</th>\n",
       "      <td>-100.000000</td>\n",
       "      <td>4.000000</td>\n",
       "      <td>250.000000</td>\n",
       "      <td>0.000000</td>\n",
       "      <td>0.000000</td>\n",
       "      <td>1.000000</td>\n",
       "      <td>1.000000</td>\n",
       "      <td>19.000000</td>\n",
       "      <td>1.000000</td>\n",
       "      <td>1.000000</td>\n",
       "    </tr>\n",
       "    <tr>\n",
       "      <th>25%</th>\n",
       "      <td>-100.000000</td>\n",
       "      <td>12.000000</td>\n",
       "      <td>1365.500000</td>\n",
       "      <td>500.000000</td>\n",
       "      <td>2.000000</td>\n",
       "      <td>2.000000</td>\n",
       "      <td>2.000000</td>\n",
       "      <td>27.000000</td>\n",
       "      <td>1.000000</td>\n",
       "      <td>1.000000</td>\n",
       "    </tr>\n",
       "    <tr>\n",
       "      <th>50%</th>\n",
       "      <td>0.000000</td>\n",
       "      <td>18.000000</td>\n",
       "      <td>2319.500000</td>\n",
       "      <td>500.000000</td>\n",
       "      <td>2.000000</td>\n",
       "      <td>3.000000</td>\n",
       "      <td>3.000000</td>\n",
       "      <td>33.000000</td>\n",
       "      <td>1.000000</td>\n",
       "      <td>1.000000</td>\n",
       "    </tr>\n",
       "    <tr>\n",
       "      <th>75%</th>\n",
       "      <td>5000.000000</td>\n",
       "      <td>24.000000</td>\n",
       "      <td>3972.250000</td>\n",
       "      <td>500.000000</td>\n",
       "      <td>10.000000</td>\n",
       "      <td>4.000000</td>\n",
       "      <td>4.000000</td>\n",
       "      <td>42.000000</td>\n",
       "      <td>2.000000</td>\n",
       "      <td>1.000000</td>\n",
       "    </tr>\n",
       "    <tr>\n",
       "      <th>max</th>\n",
       "      <td>20000.000000</td>\n",
       "      <td>72.000000</td>\n",
       "      <td>18424.000000</td>\n",
       "      <td>15000.000000</td>\n",
       "      <td>10.000000</td>\n",
       "      <td>4.000000</td>\n",
       "      <td>4.000000</td>\n",
       "      <td>75.000000</td>\n",
       "      <td>4.000000</td>\n",
       "      <td>2.000000</td>\n",
       "    </tr>\n",
       "  </tbody>\n",
       "</table>\n",
       "</div>"
      ],
      "text/plain": [
       "       Status_Checking_Acc  Duration_in_Months  Credit_Amount   Savings_Acc  \\\n",
       "count          5000.000000         5000.000000    5000.000000   5000.000000   \n",
       "mean           2577.600000           20.903000    3271.258000   1834.500000   \n",
       "std            5028.794686           12.053989    2821.607329   3542.155999   \n",
       "min            -100.000000            4.000000     250.000000      0.000000   \n",
       "25%            -100.000000           12.000000    1365.500000    500.000000   \n",
       "50%               0.000000           18.000000    2319.500000    500.000000   \n",
       "75%            5000.000000           24.000000    3972.250000    500.000000   \n",
       "max           20000.000000           72.000000   18424.000000  15000.000000   \n",
       "\n",
       "       Years_At_Present_Employment  Inst_Rt_Income  Current_Address_Yrs  \\\n",
       "count                  5000.000000     5000.000000          5000.000000   \n",
       "mean                      4.164000        2.973000             2.845000   \n",
       "std                       3.703086        1.118267             1.103276   \n",
       "min                       0.000000        1.000000             1.000000   \n",
       "25%                       2.000000        2.000000             2.000000   \n",
       "50%                       2.000000        3.000000             3.000000   \n",
       "75%                      10.000000        4.000000             4.000000   \n",
       "max                      10.000000        4.000000             4.000000   \n",
       "\n",
       "               Age  Num_Credits   Dependents  \n",
       "count  5000.000000  5000.000000  5000.000000  \n",
       "mean     35.546000     1.407000     1.155000  \n",
       "std      11.370917     0.577423     0.361941  \n",
       "min      19.000000     1.000000     1.000000  \n",
       "25%      27.000000     1.000000     1.000000  \n",
       "50%      33.000000     1.000000     1.000000  \n",
       "75%      42.000000     2.000000     1.000000  \n",
       "max      75.000000     4.000000     2.000000  "
      ]
     },
     "execution_count": 15,
     "metadata": {},
     "output_type": "execute_result"
    }
   ],
   "source": [
    "num_df.describe()"
   ]
  },
  {
   "cell_type": "code",
   "execution_count": 14,
   "metadata": {
    "collapsed": true
   },
   "outputs": [],
   "source": [
    "#Look at differences between high duration of loans vs low duration\n",
    "dur_high = loan_df[loan_df['Duration_in_Months'] > 18]\n",
    "dur_low = loan_df[loan_df['Duration_in_Months'] < 18]"
   ]
  },
  {
   "cell_type": "code",
   "execution_count": 21,
   "metadata": {},
   "outputs": [
    {
     "data": {
      "image/png": "[encoded data removed]",
      "text/plain": [
       "<Figure size 432x288 with 1 Axes>"
      ]
     },
     "metadata": {},
     "output_type": "display_data"
    }
   ],
   "source": [
    "dur_high['Default'].value_counts().plot('bar',title='High Duration Defaults')\n",
    "plt.show()"
   ]
  },
  {
   "cell_type": "code",
   "execution_count": 20,
   "metadata": {},
   "outputs": [
    {
     "data": {
      "image/png": "[encoded data removed]",
      "text/plain": [
       "<Figure size 432x288 with 1 Axes>"
      ]
     },
     "metadata": {},
     "output_type": "display_data"
    }
   ],
   "source": [
    "dur_low['Default'].value_counts().plot('bar',title='Low Duration Defaults')\n",
    "plt.show()"
   ]
  },
  {
   "cell_type": "markdown",
   "metadata": {},
   "source": [
    "### As you can see, signficant differences for default rates of loans above and below 18 months"
   ]
  },
  {
   "cell_type": "code",
   "execution_count": 22,
   "metadata": {
    "collapsed": true
   },
   "outputs": [],
   "source": [
    "age_high = loan_df[loan_df['Age'] > 33]\n",
    "age_low = loan_df[loan_df['Age'] < 33]"
   ]
  },
  {
   "cell_type": "code",
   "execution_count": 23,
   "metadata": {},
   "outputs": [
    {
     "data": {
      "image/png": "[encoded data removed]",
      "text/plain": [
       "<Figure size 432x288 with 1 Axes>"
      ]
     },
     "metadata": {},
     "output_type": "display_data"
    }
   ],
   "source": [
    "age_high['Default'].value_counts().plot('bar',title='High Age Defaults')\n",
    "plt.show()"
   ]
  },
  {
   "cell_type": "code",
   "execution_count": 24,
   "metadata": {},
   "outputs": [
    {
     "data": {
      "image/png": "[encoded data removed]",
      "text/plain": [
       "<Figure size 432x288 with 1 Axes>"
      ]
     },
     "metadata": {},
     "output_type": "display_data"
    }
   ],
   "source": [
    "age_low['Default'].value_counts().plot('bar',title='Low Age Defaults')\n",
    "plt.show()"
   ]
  },
  {
   "cell_type": "markdown",
   "metadata": {},
   "source": [
    "### Younger applicants appear to have a much higher default rate"
   ]
  },
  {
   "cell_type": "code",
   "execution_count": 25,
   "metadata": {
    "collapsed": true
   },
   "outputs": [],
   "source": [
    "years_high = loan_df[loan_df['Years_At_Present_Employment']>2]\n",
    "years_low= loan_df[loan_df['Years_At_Present_Employment']<2]"
   ]
  },
  {
   "cell_type": "code",
   "execution_count": 30,
   "metadata": {},
   "outputs": [
    {
     "data": {
      "image/png": "[encoded data removed]",
      "text/plain": [
       "<Figure size 432x288 with 1 Axes>"
      ]
     },
     "metadata": {},
     "output_type": "display_data"
    }
   ],
   "source": [
    "years_high['Default'].value_counts().plot('bar',title='High years at current job defaults')\n",
    "plt.show()"
   ]
  },
  {
   "cell_type": "code",
   "execution_count": 29,
   "metadata": {},
   "outputs": [
    {
     "data": {
      "image/png": "[encoded data removed]",
      "text/plain": [
       "<Figure size 432x288 with 1 Axes>"
      ]
     },
     "metadata": {},
     "output_type": "display_data"
    }
   ],
   "source": [
    "years_low['Default'].value_counts().plot('bar',title='Low years at current job defaults')\n",
    "plt.show()"
   ]
  },
  {
   "cell_type": "markdown",
   "metadata": {},
   "source": [
    "### Applicants with less years at current employment have defaulted at a much higher rate"
   ]
  },
  {
   "cell_type": "code",
   "execution_count": 126,
   "metadata": {
    "collapsed": true
   },
   "outputs": [],
   "source": [
    "#In order to avoid collinearity and other issues, a subset of features will be used in modeling\n",
    "X = loan_df[['Duration_in_Months','Credit_Amount','Savings_Acc','Years_At_Present_Employment','Inst_Rt_Income','Age','Num_Credits','Credits_PaidBack_TilNow','OtherPlans_Bank','Purpose_Car','Debtors_Guarantor','Property_Building/Insurance','Housing_Rent',\n",
    "              'Job_Skilled','Foreign_Yes','Sex_Male',\n",
    "              'Sex_Female',\n",
    "              'Marital_Status_Married']]"
   ]
  },
  {
   "cell_type": "markdown",
   "metadata": {},
   "source": [
    "# Logistic Regression"
   ]
  },
  {
   "cell_type": "markdown",
   "metadata": {},
   "source": [
    "### First, We will perform this model with Sklearn to retrieve key accuracy scores and classification report.  Since there are so many dummy variables, not all of them will utilized."
   ]
  },
  {
   "cell_type": "code",
   "execution_count": 38,
   "metadata": {},
   "outputs": [
    {
     "name": "stdout",
     "output_type": "stream",
     "text": [
      "0.7208\n",
      "              precision    recall  f1-score   support\n",
      "\n",
      "           0       0.73      0.94      0.82       862\n",
      "           1       0.63      0.24      0.35       388\n",
      "\n",
      "   micro avg       0.72      0.72      0.72      1250\n",
      "   macro avg       0.68      0.59      0.59      1250\n",
      "weighted avg       0.70      0.72      0.68      1250\n",
      "\n"
     ]
    },
    {
     "name": "stderr",
     "output_type": "stream",
     "text": [
      "/Users/peyjmonahmad/anaconda3/lib/python3.6/site-packages/sklearn/linear_model/logistic.py:432: FutureWarning: Default solver will be changed to 'lbfgs' in 0.22. Specify a solver to silence this warning.\n",
      "  FutureWarning)\n"
     ]
    }
   ],
   "source": [
    "X_train, X_test, y_train, y_test = train_test_split(X, y, test_size=0.25, random_state=42)\n",
    "logit_model = LogisticRegression()\n",
    "logit_model.fit(X_train, y_train)\n",
    "y_pred = logit_model.predict(X_test)\n",
    "print(accuracy_score(y_test , y_pred))\n",
    "print(classification_report(y_test,logit_model.predict(X_test)))"
   ]
  },
  {
   "cell_type": "markdown",
   "metadata": {},
   "source": [
    "### Decent scores for logistic regression, let's create a confusion matrix so we can visualize our errors."
   ]
  },
  {
   "cell_type": "code",
   "execution_count": 39,
   "metadata": {
    "collapsed": true
   },
   "outputs": [],
   "source": [
    "# Generate a confusion matrix plot: \n",
    "def plot_confusion_matrix(cm,title='Confusion matrix', cmap=plt.cm.Reds):\n",
    "    plt.imshow(cm, interpolation='nearest',cmap=cmap)\n",
    "    plt.title(title)\n",
    "    plt.colorbar()\n",
    "    plt.tight_layout()\n",
    "    plt.ylabel('True label')\n",
    "    plt.xlabel('Predicted label')\n",
    "\n",
    "    \n",
    "#Use this function to generate scores for any classifier:\n",
    "def train_score(classifier,x,y):\n",
    "    xtrain, xtest, ytrain, ytest = train_test_split(x, y, test_size=0.2, random_state=1234)\n",
    "   \n",
    "    clf = classifier.fit(xtrain, ytrain)\n",
    "    # accuracy for test & train:\n",
    "    train_acc=clf.score(xtrain, ytrain)\n",
    "    test_acc=clf.score(xtest,ytest)\n",
    "    print(\"Training Data Accuracy: %0.2f\" %(train_acc))\n",
    "    print(\"Test Data Accuracy:     %0.2f\" %(test_acc))\n",
    "    \n",
    "    y_true = ytest\n",
    "    y_pred = clf.predict(xtest)\n",
    "\n",
    "\n",
    "    conf = confusion_matrix(y_true, y_pred)\n",
    "    print(conf)\n",
    "\n",
    "    print ('\\n')\n",
    "    print (\"Precision:              %0.2f\" %(conf[0, 0] / (conf[0, 0] + conf[1, 0])))\n",
    "    print (\"Recall:                 %0.2f\"% (conf[0, 0] / (conf[0, 0] + conf[0, 1])))\n",
    "    \n",
    "    cm=confusion_matrix(y_true, y_pred, labels=None)\n",
    "    \n",
    "\n",
    "    plot_confusion_matrix(cm)"
   ]
  },
  {
   "cell_type": "code",
   "execution_count": 127,
   "metadata": {},
   "outputs": [
    {
     "name": "stderr",
     "output_type": "stream",
     "text": [
      "/Users/peyjmonahmad/anaconda3/lib/python3.6/site-packages/sklearn/linear_model/logistic.py:432: FutureWarning: Default solver will be changed to 'lbfgs' in 0.22. Specify a solver to silence this warning.\n",
      "  FutureWarning)\n"
     ]
    },
    {
     "name": "stdout",
     "output_type": "stream",
     "text": [
      "Training Data Accuracy: 0.72\n",
      "Test Data Accuracy:     0.72\n",
      "[[656  53]\n",
      " [227  64]]\n",
      "\n",
      "\n",
      "Precision:              0.74\n",
      "Recall:                 0.93\n"
     ]
    },
    {
     "data": {
      "image/png": "[encoded data removed]",
      "text/plain": [
       "<Figure size 432x288 with 2 Axes>"
      ]
     },
     "metadata": {},
     "output_type": "display_data"
    }
   ],
   "source": [
    "#Run the function with logistic regression\n",
    "train_score(logit_model,X,y)\n",
    "plt.show()"
   ]
  },
  {
   "cell_type": "markdown",
   "metadata": {},
   "source": [
    "### Let's generate a ROC curve for this logistic model as well."
   ]
  },
  {
   "cell_type": "code",
   "execution_count": 52,
   "metadata": {},
   "outputs": [
    {
     "data": {
      "image/png": "[encoded data removed]",
      "text/plain": [
       "<Figure size 432x288 with 1 Axes>"
      ]
     },
     "metadata": {},
     "output_type": "display_data"
    }
   ],
   "source": [
    "from sklearn.metrics import roc_curve, auc\n",
    "\n",
    "#predicts probability rather than actual value\n",
    "y_score=logit_model.predict_proba(X_test)[:,1]\n",
    "\n",
    "fpr, tpr,_ = roc_curve(y_test, y_score)\n",
    "roc_auc = auc(fpr, tpr)\n",
    "\n",
    "\n",
    "# Plotting our curves\n",
    "plt.plot([0,1],[0,1])\n",
    "plt.plot(fpr,tpr)\n",
    "plt.xlabel('False Pos Rate')\n",
    "plt.ylabel('True Pos Rate')\n",
    "plt.show()"
   ]
  },
  {
   "cell_type": "markdown",
   "metadata": {},
   "source": [
    "### Very high number of false positives, which is what we're trying to avoid.  GridSearch CV will be implementated to retrieve the optimal C value and hopefully improve accuracy of the model."
   ]
  },
  {
   "cell_type": "code",
   "execution_count": 128,
   "metadata": {
    "collapsed": true
   },
   "outputs": [],
   "source": [
    "param_grid = dict(C=np.linspace(1, 20, 200))\n",
    "logreg = LogisticRegression(solver='lbfgs')\n",
    "\n",
    "#grid will be created with 5 folds to find parameter\n",
    "grid = GridSearchCV(logreg, param_grid, cv=5, scoring='accuracy', n_jobs=-1, verbose=True)"
   ]
  },
  {
   "cell_type": "code",
   "execution_count": 43,
   "metadata": {},
   "outputs": [
    {
     "name": "stdout",
     "output_type": "stream",
     "text": [
      "Fitting 5 folds for each of 200 candidates, totalling 1000 fits\n"
     ]
    },
    {
     "name": "stderr",
     "output_type": "stream",
     "text": [
      "[Parallel(n_jobs=-1)]: Using backend LokyBackend with 4 concurrent workers.\n",
      "[Parallel(n_jobs=-1)]: Done  42 tasks      | elapsed:    4.9s\n",
      "[Parallel(n_jobs=-1)]: Done 192 tasks      | elapsed:    9.3s\n",
      "[Parallel(n_jobs=-1)]: Done 442 tasks      | elapsed:   16.4s\n",
      "[Parallel(n_jobs=-1)]: Done 792 tasks      | elapsed:   26.4s\n"
     ]
    },
    {
     "name": "stdout",
     "output_type": "stream",
     "text": [
      "CPU times: user 2.71 s, sys: 600 ms, total: 3.31 s\n",
      "Wall time: 32.5 s\n"
     ]
    },
    {
     "name": "stderr",
     "output_type": "stream",
     "text": [
      "[Parallel(n_jobs=-1)]: Done 1000 out of 1000 | elapsed:   32.4s finished\n"
     ]
    },
    {
     "data": {
      "text/plain": [
       "GridSearchCV(cv=5, error_score='raise-deprecating',\n",
       "       estimator=LogisticRegression(C=1.0, class_weight=None, dual=False, fit_intercept=True,\n",
       "          intercept_scaling=1, max_iter=100, multi_class='warn',\n",
       "          n_jobs=None, penalty='l2', random_state=None, solver='lbfgs',\n",
       "          tol=0.0001, verbose=0, warm_start=False),\n",
       "       fit_params=None, iid='warn', n_jobs=-1,\n",
       "       param_grid={'C': array([ 1.     ,  1.09548, ..., 19.90452, 20.     ])},\n",
       "       pre_dispatch='2*n_jobs', refit=True, return_train_score='warn',\n",
       "       scoring='accuracy', verbose=True)"
      ]
     },
     "execution_count": 43,
     "metadata": {},
     "output_type": "execute_result"
    }
   ],
   "source": [
    "%%time\n",
    "grid.fit(X_train, y_train)"
   ]
  },
  {
   "cell_type": "code",
   "execution_count": 45,
   "metadata": {},
   "outputs": [
    {
     "data": {
      "text/plain": [
       "{'C': 11.50251256281407}"
      ]
     },
     "execution_count": 45,
     "metadata": {},
     "output_type": "execute_result"
    }
   ],
   "source": [
    "grid.best_params_"
   ]
  },
  {
   "cell_type": "code",
   "execution_count": 46,
   "metadata": {},
   "outputs": [
    {
     "name": "stdout",
     "output_type": "stream",
     "text": [
      "LogisticRegression(C=11.50251256281407, class_weight=None, dual=False,\n",
      "          fit_intercept=True, intercept_scaling=1, max_iter=100,\n",
      "          multi_class='warn', n_jobs=None, penalty='l2', random_state=None,\n",
      "          solver='lbfgs', tol=0.0001, verbose=0, warm_start=False)\n",
      "{'C': 11.50251256281407}\n",
      "0.7256\n"
     ]
    }
   ],
   "source": [
    "print(grid.best_estimator_)\n",
    "print(grid.best_params_)\n",
    "print(grid.best_score_)"
   ]
  },
  {
   "cell_type": "markdown",
   "metadata": {},
   "source": [
    "### Very slight improvements with the optimal C value.  Let's take a look at logistic regression through statsmodels, this way we can a nice results summary.  This allows us to view the significance of coefficient of each feature."
   ]
  },
  {
   "cell_type": "code",
   "execution_count": 112,
   "metadata": {},
   "outputs": [
    {
     "name": "stdout",
     "output_type": "stream",
     "text": [
      "Optimization terminated successfully.\n",
      "         Current function value: 0.542034\n",
      "         Iterations 7\n"
     ]
    },
    {
     "data": {
      "text/html": [
       "<table class=\"simpletable\">\n",
       "<caption>Logit Regression Results</caption>\n",
       "<tr>\n",
       "  <th>Dep. Variable:</th>      <td>Default</td>     <th>  No. Observations:  </th>  <td>  3750</td>  \n",
       "</tr>\n",
       "<tr>\n",
       "  <th>Model:</th>               <td>Logit</td>      <th>  Df Residuals:      </th>  <td>  3732</td>  \n",
       "</tr>\n",
       "<tr>\n",
       "  <th>Method:</th>               <td>MLE</td>       <th>  Df Model:          </th>  <td>    17</td>  \n",
       "</tr>\n",
       "<tr>\n",
       "  <th>Date:</th>          <td>Tue, 30 Oct 2018</td> <th>  Pseudo R-squ.:     </th>  <td>0.1066</td>  \n",
       "</tr>\n",
       "<tr>\n",
       "  <th>Time:</th>              <td>20:26:43</td>     <th>  Log-Likelihood:    </th> <td> -2032.6</td> \n",
       "</tr>\n",
       "<tr>\n",
       "  <th>converged:</th>           <td>True</td>       <th>  LL-Null:           </th> <td> -2275.3</td> \n",
       "</tr>\n",
       "<tr>\n",
       "  <th> </th>                      <td> </td>        <th>  LLR p-value:       </th> <td>2.345e-92</td>\n",
       "</tr>\n",
       "</table>\n",
       "<table class=\"simpletable\">\n",
       "<tr>\n",
       "               <td></td>                  <th>coef</th>     <th>std err</th>      <th>z</th>      <th>P>|z|</th>  <th>[0.025</th>    <th>0.975]</th>  \n",
       "</tr>\n",
       "<tr>\n",
       "  <th>const</th>                       <td>   -2.5492</td> <td> 3.58e+06</td> <td>-7.12e-07</td> <td> 1.000</td> <td>-7.01e+06</td> <td> 7.01e+06</td>\n",
       "</tr>\n",
       "<tr>\n",
       "  <th>Duration_in_Months</th>          <td>    0.0336</td> <td>    0.004</td> <td>    7.856</td> <td> 0.000</td> <td>    0.025</td> <td>    0.042</td>\n",
       "</tr>\n",
       "<tr>\n",
       "  <th>Credit_Amount</th>               <td> 5.603e-05</td> <td> 1.88e-05</td> <td>    2.980</td> <td> 0.003</td> <td> 1.92e-05</td> <td> 9.29e-05</td>\n",
       "</tr>\n",
       "<tr>\n",
       "  <th>Savings_Acc</th>                 <td> -6.08e-05</td> <td> 1.27e-05</td> <td>   -4.786</td> <td> 0.000</td> <td>-8.57e-05</td> <td>-3.59e-05</td>\n",
       "</tr>\n",
       "<tr>\n",
       "  <th>Years_At_Present_Employment</th> <td>   -0.0661</td> <td>    0.012</td> <td>   -5.529</td> <td> 0.000</td> <td>   -0.090</td> <td>   -0.043</td>\n",
       "</tr>\n",
       "<tr>\n",
       "  <th>Inst_Rt_Income</th>              <td>    0.2632</td> <td>    0.040</td> <td>    6.570</td> <td> 0.000</td> <td>    0.185</td> <td>    0.342</td>\n",
       "</tr>\n",
       "<tr>\n",
       "  <th>Age</th>                         <td>   -0.0110</td> <td>    0.004</td> <td>   -2.761</td> <td> 0.006</td> <td>   -0.019</td> <td>   -0.003</td>\n",
       "</tr>\n",
       "<tr>\n",
       "  <th>Num_Credits</th>                 <td>   -0.0111</td> <td>    0.082</td> <td>   -0.135</td> <td> 0.893</td> <td>   -0.172</td> <td>    0.150</td>\n",
       "</tr>\n",
       "<tr>\n",
       "  <th>Credits_PaidBack_TilNow</th>     <td>    0.1597</td> <td>    0.093</td> <td>    1.723</td> <td> 0.085</td> <td>   -0.022</td> <td>    0.341</td>\n",
       "</tr>\n",
       "<tr>\n",
       "  <th>OtherPlans_Bank</th>             <td>    0.6938</td> <td>    0.105</td> <td>    6.610</td> <td> 0.000</td> <td>    0.488</td> <td>    0.899</td>\n",
       "</tr>\n",
       "<tr>\n",
       "  <th>Purpose_Car</th>                 <td>    0.7511</td> <td>    0.090</td> <td>    8.359</td> <td> 0.000</td> <td>    0.575</td> <td>    0.927</td>\n",
       "</tr>\n",
       "<tr>\n",
       "  <th>Debtors_Guarantor</th>           <td>   -0.6670</td> <td>    0.204</td> <td>   -3.262</td> <td> 0.001</td> <td>   -1.068</td> <td>   -0.266</td>\n",
       "</tr>\n",
       "<tr>\n",
       "  <th>Property_Building/Insurance</th> <td>    0.0419</td> <td>    0.092</td> <td>    0.458</td> <td> 0.647</td> <td>   -0.138</td> <td>    0.222</td>\n",
       "</tr>\n",
       "<tr>\n",
       "  <th>Housing_Rent</th>                <td>    0.6488</td> <td>    0.101</td> <td>    6.402</td> <td> 0.000</td> <td>    0.450</td> <td>    0.847</td>\n",
       "</tr>\n",
       "<tr>\n",
       "  <th>Job_Skilled</th>                 <td>    0.0034</td> <td>    0.082</td> <td>    0.041</td> <td> 0.967</td> <td>   -0.158</td> <td>    0.164</td>\n",
       "</tr>\n",
       "<tr>\n",
       "  <th>Foreign_Yes</th>                 <td>    1.5522</td> <td>    0.334</td> <td>    4.646</td> <td> 0.000</td> <td>    0.897</td> <td>    2.207</td>\n",
       "</tr>\n",
       "<tr>\n",
       "  <th>Sex_Male</th>                    <td>   -1.3608</td> <td> 3.58e+06</td> <td> -3.8e-07</td> <td> 1.000</td> <td>-7.01e+06</td> <td> 7.01e+06</td>\n",
       "</tr>\n",
       "<tr>\n",
       "  <th>Sex_Female</th>                  <td>   -1.1883</td> <td> 3.58e+06</td> <td>-3.32e-07</td> <td> 1.000</td> <td>-7.01e+06</td> <td> 7.01e+06</td>\n",
       "</tr>\n",
       "<tr>\n",
       "  <th>Marital_Status_Married</th>      <td>    0.0530</td> <td>    0.141</td> <td>    0.377</td> <td> 0.706</td> <td>   -0.223</td> <td>    0.329</td>\n",
       "</tr>\n",
       "</table>"
      ],
      "text/plain": [
       "<class 'statsmodels.iolib.summary.Summary'>\n",
       "\"\"\"\n",
       "                           Logit Regression Results                           \n",
       "==============================================================================\n",
       "Dep. Variable:                Default   No. Observations:                 3750\n",
       "Model:                          Logit   Df Residuals:                     3732\n",
       "Method:                           MLE   Df Model:                           17\n",
       "Date:                Tue, 30 Oct 2018   Pseudo R-squ.:                  0.1066\n",
       "Time:                        20:26:43   Log-Likelihood:                -2032.6\n",
       "converged:                       True   LL-Null:                       -2275.3\n",
       "                                        LLR p-value:                 2.345e-92\n",
       "===============================================================================================\n",
       "                                  coef    std err          z      P>|z|      [0.025      0.975]\n",
       "-----------------------------------------------------------------------------------------------\n",
       "const                          -2.5492   3.58e+06  -7.12e-07      1.000   -7.01e+06    7.01e+06\n",
       "Duration_in_Months              0.0336      0.004      7.856      0.000       0.025       0.042\n",
       "Credit_Amount                5.603e-05   1.88e-05      2.980      0.003    1.92e-05    9.29e-05\n",
       "Savings_Acc                  -6.08e-05   1.27e-05     -4.786      0.000   -8.57e-05   -3.59e-05\n",
       "Years_At_Present_Employment    -0.0661      0.012     -5.529      0.000      -0.090      -0.043\n",
       "Inst_Rt_Income                  0.2632      0.040      6.570      0.000       0.185       0.342\n",
       "Age                            -0.0110      0.004     -2.761      0.006      -0.019      -0.003\n",
       "Num_Credits                    -0.0111      0.082     -0.135      0.893      -0.172       0.150\n",
       "Credits_PaidBack_TilNow         0.1597      0.093      1.723      0.085      -0.022       0.341\n",
       "OtherPlans_Bank                 0.6938      0.105      6.610      0.000       0.488       0.899\n",
       "Purpose_Car                     0.7511      0.090      8.359      0.000       0.575       0.927\n",
       "Debtors_Guarantor              -0.6670      0.204     -3.262      0.001      -1.068      -0.266\n",
       "Property_Building/Insurance     0.0419      0.092      0.458      0.647      -0.138       0.222\n",
       "Housing_Rent                    0.6488      0.101      6.402      0.000       0.450       0.847\n",
       "Job_Skilled                     0.0034      0.082      0.041      0.967      -0.158       0.164\n",
       "Foreign_Yes                     1.5522      0.334      4.646      0.000       0.897       2.207\n",
       "Sex_Male                       -1.3608   3.58e+06   -3.8e-07      1.000   -7.01e+06    7.01e+06\n",
       "Sex_Female                     -1.1883   3.58e+06  -3.32e-07      1.000   -7.01e+06    7.01e+06\n",
       "Marital_Status_Married          0.0530      0.141      0.377      0.706      -0.223       0.329\n",
       "===============================================================================================\n",
       "\"\"\""
      ]
     },
     "execution_count": 112,
     "metadata": {},
     "output_type": "execute_result"
    }
   ],
   "source": [
    "X_train, X_test, y_train, y_test = train_test_split(X, y, test_size=0.25, random_state=42)\n",
    "X_train = sm.add_constant(X_train)\n",
    "logit_s_model = sm.Logit(y_train, X_train)\n",
    "results = logit_s_model.fit()\n",
    "results.summary()"
   ]
  },
  {
   "cell_type": "markdown",
   "metadata": {},
   "source": [
    "### There are some interesting takeaways from these results, but the categorical variables appear to be scewing the data.  We're going to hold off on interpreting the coefficients until we narrow done the features to a manageable number."
   ]
  },
  {
   "cell_type": "markdown",
   "metadata": {},
   "source": [
    "## KNN (K-Nearest Neighbors)"
   ]
  },
  {
   "cell_type": "code",
   "execution_count": 64,
   "metadata": {
    "collapsed": true
   },
   "outputs": [],
   "source": [
    "knn = KNeighborsClassifier(n_neighbors=6)"
   ]
  },
  {
   "cell_type": "markdown",
   "metadata": {},
   "source": [
    "### We're going to create a function for KNN, since it requires standarization."
   ]
  },
  {
   "cell_type": "code",
   "execution_count": 60,
   "metadata": {
    "collapsed": true
   },
   "outputs": [],
   "source": [
    "def classify_knn(model,x,y):\n",
    "    X_train, X_test, y_train, y_test = train_test_split(x, y, test_size=0.25, random_state=42)\n",
    "    \n",
    "    scaler=StandardScaler()\n",
    "    X_train = scaler.fit_transform(X_train)\n",
    "    X_test = scaler.transform(X_test)\n",
    "    \n",
    "    model.fit(X_train, y_train)\n",
    "    y_pred = knn.predict(X_test)\n",
    "\n",
    "    print(metrics.accuracy_score(y_test , y_pred))\n",
    "    print(classification_report(y_test,model.predict(X_test))) "
   ]
  },
  {
   "cell_type": "code",
   "execution_count": 65,
   "metadata": {},
   "outputs": [
    {
     "name": "stderr",
     "output_type": "stream",
     "text": [
      "/Users/peyjmonahmad/anaconda3/lib/python3.6/site-packages/sklearn/preprocessing/data.py:617: DataConversionWarning: Data with input dtype uint8, int64, float64 were all converted to float64 by StandardScaler.\n",
      "  return self.partial_fit(X, y)\n",
      "/Users/peyjmonahmad/anaconda3/lib/python3.6/site-packages/sklearn/base.py:462: DataConversionWarning: Data with input dtype uint8, int64, float64 were all converted to float64 by StandardScaler.\n",
      "  return self.fit(X, **fit_params).transform(X)\n",
      "/Users/peyjmonahmad/anaconda3/lib/python3.6/site-packages/ipykernel_launcher.py:6: DataConversionWarning: Data with input dtype uint8, int64, float64 were all converted to float64 by StandardScaler.\n",
      "  \n"
     ]
    },
    {
     "name": "stdout",
     "output_type": "stream",
     "text": [
      "0.8392\n",
      "              precision    recall  f1-score   support\n",
      "\n",
      "           0       0.83      0.97      0.89       862\n",
      "           1       0.90      0.54      0.68       388\n",
      "\n",
      "   micro avg       0.84      0.84      0.84      1250\n",
      "   macro avg       0.86      0.76      0.79      1250\n",
      "weighted avg       0.85      0.84      0.83      1250\n",
      "\n"
     ]
    }
   ],
   "source": [
    "classify_knn(knn,X,y)"
   ]
  },
  {
   "cell_type": "markdown",
   "metadata": {},
   "source": [
    "### This is a very acceptable KNN score.  scores are even higher for n_neighbors of ranges 1-5.  But I established that those neighbor values were overfitting the model, and were not realistic outcomes for out of sample data."
   ]
  },
  {
   "cell_type": "markdown",
   "metadata": {},
   "source": [
    "### Let's generate a confusion matrix for KNN, and we can compare it to the logistic matrix as well."
   ]
  },
  {
   "cell_type": "code",
   "execution_count": 66,
   "metadata": {},
   "outputs": [
    {
     "name": "stdout",
     "output_type": "stream",
     "text": [
      "Training Data Accuracy: 0.96\n",
      "Test Data Accuracy:     0.84\n",
      "[[660  49]\n",
      " [110 181]]\n",
      "\n",
      "\n",
      "Precision:              0.86\n",
      "Recall:                 0.93\n"
     ]
    },
    {
     "data": {
      "image/png": "[encoded data removed]",
      "text/plain": [
       "<Figure size 432x288 with 2 Axes>"
      ]
     },
     "metadata": {},
     "output_type": "display_data"
    }
   ],
   "source": [
    "train_score(knn,X,y)\n",
    "plt.show()"
   ]
  },
  {
   "cell_type": "markdown",
   "metadata": {},
   "source": [
    "#### KNN Matrix ^"
   ]
  },
  {
   "cell_type": "code",
   "execution_count": 67,
   "metadata": {},
   "outputs": [
    {
     "name": "stderr",
     "output_type": "stream",
     "text": [
      "/Users/peyjmonahmad/anaconda3/lib/python3.6/site-packages/sklearn/linear_model/logistic.py:432: FutureWarning: Default solver will be changed to 'lbfgs' in 0.22. Specify a solver to silence this warning.\n",
      "  FutureWarning)\n"
     ]
    },
    {
     "name": "stdout",
     "output_type": "stream",
     "text": [
      "Training Data Accuracy: 0.72\n",
      "Test Data Accuracy:     0.72\n",
      "[[656  53]\n",
      " [227  64]]\n",
      "\n",
      "\n",
      "Precision:              0.74\n",
      "Recall:                 0.93\n"
     ]
    },
    {
     "data": {
      "image/png": "[encoded data removed]",
      "text/plain": [
       "<Figure size 432x288 with 2 Axes>"
      ]
     },
     "metadata": {},
     "output_type": "display_data"
    }
   ],
   "source": [
    "train_score(logit_model,X,y)\n",
    "plt.show()"
   ]
  },
  {
   "cell_type": "markdown",
   "metadata": {},
   "source": [
    "#### Logistic Regression Matrix ^"
   ]
  },
  {
   "cell_type": "markdown",
   "metadata": {},
   "source": [
    "### In the KNN matrix (First one), we can focus on the bottom left square, and see that the square is a  much lighter shade of red.  Why is that?\n",
    "\n",
    "### This is due to signficantly less false positives from the KNN model, which is exactly what were trying to achieve.  In this case, a false positive is when we predict a customer will honor the loan, but in reality they default.\n",
    "\n",
    "### Although the logistic regression model provides some useful insights, it is clear that KNN is a much stronger predictor of the target default variable."
   ]
  },
  {
   "cell_type": "markdown",
   "metadata": {},
   "source": [
    "## Random Forest"
   ]
  },
  {
   "cell_type": "code",
   "execution_count": 115,
   "metadata": {},
   "outputs": [
    {
     "name": "stdout",
     "output_type": "stream",
     "text": [
      "0.88\n",
      "              precision    recall  f1-score   support\n",
      "\n",
      "           0       0.86      0.99      0.92       862\n",
      "           1       0.96      0.64      0.77       388\n",
      "\n",
      "   micro avg       0.88      0.88      0.88      1250\n",
      "   macro avg       0.91      0.81      0.84      1250\n",
      "weighted avg       0.89      0.88      0.87      1250\n",
      "\n"
     ]
    },
    {
     "name": "stderr",
     "output_type": "stream",
     "text": [
      "/Users/peyjmonahmad/anaconda3/lib/python3.6/site-packages/sklearn/ensemble/forest.py:248: FutureWarning: The default value of n_estimators will change from 10 in version 0.20 to 100 in 0.22.\n",
      "  \"10 in version 0.20 to 100 in 0.22.\", FutureWarning)\n",
      "/Users/peyjmonahmad/anaconda3/lib/python3.6/site-packages/sklearn/ensemble/forest.py:460: UserWarning: Some inputs do not have OOB scores. This probably means too few trees were used to compute any reliable oob estimates.\n",
      "  warn(\"Some inputs do not have OOB scores. \"\n",
      "/Users/peyjmonahmad/anaconda3/lib/python3.6/site-packages/sklearn/ensemble/forest.py:465: RuntimeWarning: invalid value encountered in true_divide\n",
      "  predictions[k].sum(axis=1)[:, np.newaxis])\n"
     ]
    }
   ],
   "source": [
    "randomforest = RandomForestClassifier(max_features='sqrt',min_samples_leaf=8,oob_score=True)\n",
    "\n",
    "X_train, X_test, y_train, y_test = train_test_split(X, y, test_size=0.25, random_state=42)\n",
    "randomforest.fit(X_train, y_train)\n",
    "y_pred = randomforest.predict(X_test)\n",
    "print(metrics.accuracy_score(y_test, y_pred))\n",
    "print(classification_report(y_test,randomforest.predict(X_test)))"
   ]
  },
  {
   "cell_type": "markdown",
   "metadata": {},
   "source": [
    "### Looks like random forest performs even better than KNN, we can implement the feature importance attribute from random forest, to get a feel for the features that are producing the highest impact for our models."
   ]
  },
  {
   "cell_type": "code",
   "execution_count": 71,
   "metadata": {},
   "outputs": [
    {
     "data": {
      "text/plain": [
       "array([0.15217361, 0.21536692, 0.06638471, 0.07732678, 0.05720658,\n",
       "       0.16402428, 0.02353646, 0.03584887, 0.02340432, 0.04631495,\n",
       "       0.00708848, 0.0296899 , 0.02199396, 0.02193472, 0.00805795,\n",
       "       0.01392326, 0.01954912, 0.01617513])"
      ]
     },
     "execution_count": 71,
     "metadata": {},
     "output_type": "execute_result"
    }
   ],
   "source": [
    "randomforest.feature_importances_"
   ]
  },
  {
   "cell_type": "code",
   "execution_count": 73,
   "metadata": {},
   "outputs": [
    {
     "name": "stdout",
     "output_type": "stream",
     "text": [
      "Feature ranking:\n",
      "0. feature 1 (0.211770)\n",
      "1. feature 0 (0.166618)\n",
      "2. feature 5 (0.164793)\n",
      "3. feature 2 (0.079938)\n",
      "4. feature 3 (0.065961)\n",
      "5. feature 4 (0.060084)\n",
      "6. feature 9 (0.042555)\n",
      "7. feature 12 (0.031308)\n",
      "8. feature 7 (0.027691)\n",
      "9. feature 6 (0.026711)\n",
      "10. feature 11 (0.022421)\n",
      "11. feature 16 (0.019684)\n",
      "12. feature 8 (0.019214)\n",
      "13. feature 13 (0.018446)\n",
      "14. feature 17 (0.017262)\n",
      "15. feature 15 (0.013446)\n",
      "16. feature 10 (0.006986)\n",
      "17. feature 14 (0.005112)\n"
     ]
    },
    {
     "name": "stderr",
     "output_type": "stream",
     "text": [
      "/Users/peyjmonahmad/anaconda3/lib/python3.6/site-packages/sklearn/ensemble/forest.py:460: UserWarning: Some inputs do not have OOB scores. This probably means too few trees were used to compute any reliable oob estimates.\n",
      "  warn(\"Some inputs do not have OOB scores. \"\n",
      "/Users/peyjmonahmad/anaconda3/lib/python3.6/site-packages/sklearn/ensemble/forest.py:465: RuntimeWarning: invalid value encountered in true_divide\n",
      "  predictions[k].sum(axis=1)[:, np.newaxis])\n"
     ]
    }
   ],
   "source": [
    "#fitting of random forest model\n",
    "randomforest.fit(X_train, y_train)\n",
    "\n",
    "#generate list of top feature importances\n",
    "importances = randomforest.feature_importances_\n",
    "std = np.std([tree.feature_importances_ for tree in randomforest.estimators_],\n",
    "             axis=0)\n",
    "indices = np.argsort(importances)[::-1]\n",
    "\n",
    "# Print the feature ranking\n",
    "print(\"Feature ranking:\")\n",
    "\n",
    "for f in range(X.shape[1]):\n",
    "    print(\"%d. feature %d (%f)\" % (f, indices[f], importances[indices[f]]))"
   ]
  },
  {
   "cell_type": "markdown",
   "metadata": {},
   "source": [
    "### Random forest manifested that the numerical columns have strongest power in our models, and they have taken over.  We will make a plot of all the numerical columns to find they're relative feature importances"
   ]
  },
  {
   "cell_type": "code",
   "execution_count": 94,
   "metadata": {},
   "outputs": [
    {
     "name": "stderr",
     "output_type": "stream",
     "text": [
      "/Users/peyjmonahmad/anaconda3/lib/python3.6/site-packages/sklearn/ensemble/forest.py:460: UserWarning: Some inputs do not have OOB scores. This probably means too few trees were used to compute any reliable oob estimates.\n",
      "  warn(\"Some inputs do not have OOB scores. \"\n",
      "/Users/peyjmonahmad/anaconda3/lib/python3.6/site-packages/sklearn/ensemble/forest.py:465: RuntimeWarning: invalid value encountered in true_divide\n",
      "  predictions[k].sum(axis=1)[:, np.newaxis])\n"
     ]
    },
    {
     "name": "stdout",
     "output_type": "stream",
     "text": [
      "Feature ranking:\n",
      "0. feature 1 (0.221218)\n",
      "1. feature 5 (0.173231)\n",
      "2. feature 0 (0.145421)\n",
      "3. feature 3 (0.075486)\n",
      "4. feature 4 (0.064577)\n",
      "5. feature 2 (0.056293)\n",
      "6. feature 9 (0.044744)\n",
      "7. feature 13 (0.035002)\n",
      "8. feature 6 (0.028947)\n",
      "9. feature 11 (0.028641)\n",
      "10. feature 7 (0.026940)\n",
      "11. feature 12 (0.025057)\n",
      "12. feature 8 (0.020948)\n",
      "13. feature 17 (0.015460)\n",
      "14. feature 15 (0.014523)\n",
      "15. feature 16 (0.009763)\n",
      "16. feature 10 (0.007742)\n",
      "17. feature 14 (0.006006)\n"
     ]
    },
    {
     "data": {
      "image/png": "[encoded data removed]",
      "text/plain": [
       "<Figure size 432x288 with 1 Axes>"
      ]
     },
     "metadata": {},
     "output_type": "display_data"
    }
   ],
   "source": [
    "X_train, X_test, y_train, y_test = train_test_split(X, y, test_size=0.25, random_state=42)\n",
    "randomforest.fit(X_train, y_train)\n",
    "importances = randomforest.feature_importances_\n",
    "std = np.std([tree.feature_importances_ for tree in randomforest.estimators_],\n",
    "             axis=0)\n",
    "indices = np.argsort(importances)[::-1]\n",
    "\n",
    "# Print the feature ranking\n",
    "print(\"Feature ranking:\")\n",
    "\n",
    "for f in range(X.shape[1]):\n",
    "    print(\"%d. feature %d (%f)\" % (f, indices[f], importances[indices[f]]))\n",
    "\n",
    "# Plot the feature importances of the forest\n",
    "plt.figure()\n",
    "plt.title(\"Feature importances\")\n",
    "plt.bar(range(X.shape[1]), importances[indices],\n",
    "       color=\"r\", yerr=std[indices], align=\"center\")\n",
    "plt.xticks(range(X.shape[1]), indices)\n",
    "plt.xlim([-1, X.shape[1]])\n",
    "plt.show()"
   ]
  },
  {
   "cell_type": "markdown",
   "metadata": {},
   "source": [
    "### Above is a visual of the feature importances, you can see the corresponding names of these features below."
   ]
  },
  {
   "cell_type": "code",
   "execution_count": 122,
   "metadata": {},
   "outputs": [
    {
     "name": "stdout",
     "output_type": "stream",
     "text": [
      "['Credit_Amount', 'Age', 'Duration_in_Months', 'Years_At_Present_Employment', 'Savings_Acc']\n"
     ]
    }
   ],
   "source": [
    "col = X.columns\n",
    "top_features = [col[1],col[5],col[0],col[3],col[2]]\n",
    "print(top_features)"
   ]
  },
  {
   "cell_type": "markdown",
   "metadata": {},
   "source": [
    "### At this point, we have narrowed it down to about 5 features.  We can run another statsmodels model to interpret the coefficients and grasp the final influences of the variables."
   ]
  },
  {
   "cell_type": "code",
   "execution_count": 123,
   "metadata": {},
   "outputs": [
    {
     "name": "stdout",
     "output_type": "stream",
     "text": [
      "Optimization terminated successfully.\n",
      "         Current function value: 0.572749\n",
      "         Iterations 5\n"
     ]
    },
    {
     "data": {
      "text/html": [
       "<table class=\"simpletable\">\n",
       "<caption>Logit Regression Results</caption>\n",
       "<tr>\n",
       "  <th>Dep. Variable:</th>      <td>Default</td>     <th>  No. Observations:  </th>  <td>  3750</td>  \n",
       "</tr>\n",
       "<tr>\n",
       "  <th>Model:</th>               <td>Logit</td>      <th>  Df Residuals:      </th>  <td>  3744</td>  \n",
       "</tr>\n",
       "<tr>\n",
       "  <th>Method:</th>               <td>MLE</td>       <th>  Df Model:          </th>  <td>     5</td>  \n",
       "</tr>\n",
       "<tr>\n",
       "  <th>Date:</th>          <td>Tue, 30 Oct 2018</td> <th>  Pseudo R-squ.:     </th>  <td>0.05603</td> \n",
       "</tr>\n",
       "<tr>\n",
       "  <th>Time:</th>              <td>20:33:36</td>     <th>  Log-Likelihood:    </th> <td> -2147.8</td> \n",
       "</tr>\n",
       "<tr>\n",
       "  <th>converged:</th>           <td>True</td>       <th>  LL-Null:           </th> <td> -2275.3</td> \n",
       "</tr>\n",
       "<tr>\n",
       "  <th> </th>                      <td> </td>        <th>  LLR p-value:       </th> <td>4.768e-53</td>\n",
       "</tr>\n",
       "</table>\n",
       "<table class=\"simpletable\">\n",
       "<tr>\n",
       "               <td></td>                  <th>coef</th>     <th>std err</th>      <th>z</th>      <th>P>|z|</th>  <th>[0.025</th>    <th>0.975]</th>  \n",
       "</tr>\n",
       "<tr>\n",
       "  <th>const</th>                       <td>   -0.9563</td> <td>    0.143</td> <td>   -6.683</td> <td> 0.000</td> <td>   -1.237</td> <td>   -0.676</td>\n",
       "</tr>\n",
       "<tr>\n",
       "  <th>Credit_Amount</th>               <td> 4.427e-06</td> <td> 1.64e-05</td> <td>    0.269</td> <td> 0.788</td> <td>-2.78e-05</td> <td> 3.67e-05</td>\n",
       "</tr>\n",
       "<tr>\n",
       "  <th>Age</th>                         <td>   -0.0121</td> <td>    0.004</td> <td>   -3.302</td> <td> 0.001</td> <td>   -0.019</td> <td>   -0.005</td>\n",
       "</tr>\n",
       "<tr>\n",
       "  <th>Duration_in_Months</th>          <td>    0.0380</td> <td>    0.004</td> <td>    9.715</td> <td> 0.000</td> <td>    0.030</td> <td>    0.046</td>\n",
       "</tr>\n",
       "<tr>\n",
       "  <th>Years_At_Present_Employment</th> <td>   -0.0603</td> <td>    0.011</td> <td>   -5.379</td> <td> 0.000</td> <td>   -0.082</td> <td>   -0.038</td>\n",
       "</tr>\n",
       "<tr>\n",
       "  <th>Savings_Acc</th>                 <td>-5.563e-05</td> <td> 1.24e-05</td> <td>   -4.503</td> <td> 0.000</td> <td>-7.98e-05</td> <td>-3.14e-05</td>\n",
       "</tr>\n",
       "</table>"
      ],
      "text/plain": [
       "<class 'statsmodels.iolib.summary.Summary'>\n",
       "\"\"\"\n",
       "                           Logit Regression Results                           \n",
       "==============================================================================\n",
       "Dep. Variable:                Default   No. Observations:                 3750\n",
       "Model:                          Logit   Df Residuals:                     3744\n",
       "Method:                           MLE   Df Model:                            5\n",
       "Date:                Tue, 30 Oct 2018   Pseudo R-squ.:                 0.05603\n",
       "Time:                        20:33:36   Log-Likelihood:                -2147.8\n",
       "converged:                       True   LL-Null:                       -2275.3\n",
       "                                        LLR p-value:                 4.768e-53\n",
       "===============================================================================================\n",
       "                                  coef    std err          z      P>|z|      [0.025      0.975]\n",
       "-----------------------------------------------------------------------------------------------\n",
       "const                          -0.9563      0.143     -6.683      0.000      -1.237      -0.676\n",
       "Credit_Amount                4.427e-06   1.64e-05      0.269      0.788   -2.78e-05    3.67e-05\n",
       "Age                            -0.0121      0.004     -3.302      0.001      -0.019      -0.005\n",
       "Duration_in_Months              0.0380      0.004      9.715      0.000       0.030       0.046\n",
       "Years_At_Present_Employment    -0.0603      0.011     -5.379      0.000      -0.082      -0.038\n",
       "Savings_Acc                 -5.563e-05   1.24e-05     -4.503      0.000   -7.98e-05   -3.14e-05\n",
       "===============================================================================================\n",
       "\"\"\""
      ]
     },
     "execution_count": 123,
     "metadata": {},
     "output_type": "execute_result"
    }
   ],
   "source": [
    "X1 = loan_df[top_features]\n",
    "X_train, X_test, y_train, y_test = train_test_split(X1, y, test_size=0.25, random_state=42)\n",
    "X_train = sm.add_constant(X_train)\n",
    "logit_s_model = sm.Logit(y_train, X_train)\n",
    "results = logit_s_model.fit()\n",
    "results.summary()"
   ]
  },
  {
   "cell_type": "code",
   "execution_count": 125,
   "metadata": {},
   "outputs": [
    {
     "data": {
      "text/html": [
       "<div>\n",
       "<style>\n",
       "    .dataframe thead tr:only-child th {\n",
       "        text-align: right;\n",
       "    }\n",
       "\n",
       "    .dataframe thead th {\n",
       "        text-align: left;\n",
       "    }\n",
       "\n",
       "    .dataframe tbody tr th {\n",
       "        vertical-align: top;\n",
       "    }\n",
       "</style>\n",
       "<table border=\"1\" class=\"dataframe\">\n",
       "  <thead>\n",
       "    <tr style=\"text-align: right;\">\n",
       "      <th></th>\n",
       "      <th>Credit_Amount</th>\n",
       "      <th>Age</th>\n",
       "      <th>Duration_in_Months</th>\n",
       "      <th>Years_At_Present_Employment</th>\n",
       "      <th>Savings_Acc</th>\n",
       "    </tr>\n",
       "  </thead>\n",
       "  <tbody>\n",
       "    <tr>\n",
       "      <th>0</th>\n",
       "      <td>1169</td>\n",
       "      <td>67</td>\n",
       "      <td>6</td>\n",
       "      <td>10.0</td>\n",
       "      <td>0</td>\n",
       "    </tr>\n",
       "    <tr>\n",
       "      <th>1</th>\n",
       "      <td>5951</td>\n",
       "      <td>22</td>\n",
       "      <td>48</td>\n",
       "      <td>2.0</td>\n",
       "      <td>500</td>\n",
       "    </tr>\n",
       "    <tr>\n",
       "      <th>2</th>\n",
       "      <td>2096</td>\n",
       "      <td>49</td>\n",
       "      <td>12</td>\n",
       "      <td>5.0</td>\n",
       "      <td>500</td>\n",
       "    </tr>\n",
       "    <tr>\n",
       "      <th>3</th>\n",
       "      <td>7882</td>\n",
       "      <td>45</td>\n",
       "      <td>42</td>\n",
       "      <td>5.0</td>\n",
       "      <td>500</td>\n",
       "    </tr>\n",
       "    <tr>\n",
       "      <th>4</th>\n",
       "      <td>4870</td>\n",
       "      <td>53</td>\n",
       "      <td>24</td>\n",
       "      <td>2.0</td>\n",
       "      <td>500</td>\n",
       "    </tr>\n",
       "  </tbody>\n",
       "</table>\n",
       "</div>"
      ],
      "text/plain": [
       "   Credit_Amount  Age  Duration_in_Months  Years_At_Present_Employment  \\\n",
       "0           1169   67                   6                         10.0   \n",
       "1           5951   22                  48                          2.0   \n",
       "2           2096   49                  12                          5.0   \n",
       "3           7882   45                  42                          5.0   \n",
       "4           4870   53                  24                          2.0   \n",
       "\n",
       "   Savings_Acc  \n",
       "0            0  \n",
       "1          500  \n",
       "2          500  \n",
       "3          500  \n",
       "4          500  "
      ]
     },
     "execution_count": 125,
     "metadata": {},
     "output_type": "execute_result"
    }
   ],
   "source": [
    "X1.head()"
   ]
  },
  {
   "cell_type": "markdown",
   "metadata": {},
   "source": [
    "### By using the exp() of each coefficient, we can find the increase/decrease of risk for default per unit for our features.\n",
    "\n",
    "## The results were the following risk increases/decreases:\n",
    "\n",
    "### Duration of Loan: 1.3% increase for every month\n",
    "### Credit Amount: 1.5% increase for every $1000 in account\n",
    "\n",
    "### Years at Present Employment: 2% decrease for every year at same job \n",
    "### Savings Account: 1% decrease for every $500 in account\n",
    "### Age: 1.2% decrease for every year"
   ]
  },
  {
   "cell_type": "markdown",
   "metadata": {},
   "source": [
    "### Ultimately, we can reasonably accept these five features as strong predictors of whether an applicant is more likely to default or honor his/her loan.  We will continue to make any improvements to the models, as well as possible undersampling.  "
   ]
  },
  {
   "cell_type": "code",
   "execution_count": null,
   "metadata": {
    "collapsed": true
   },
   "outputs": [],
   "source": []
  }
 ],
 "metadata": {
  "kernelspec": {
   "display_name": "Python 3",
   "language": "python",
   "name": "python3"
  },
  "language_info": {
   "codemirror_mode": {
    "name": "ipython",
    "version": 3
   },
   "file_extension": ".py",
   "mimetype": "text/x-python",
   "name": "python",
   "nbconvert_exporter": "python",
   "pygments_lexer": "ipython3",
   "version": "3.6.8"
  }
 },
 "nbformat": 4,
 "nbformat_minor": 2
}
